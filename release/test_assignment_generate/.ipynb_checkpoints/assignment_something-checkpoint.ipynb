{
 "cells": [
  {
   "cell_type": "markdown",
   "id": "3cbfbf47-2159-41c6-9add-088e8f68eb93",
   "metadata": {
    "deletable": false,
    "editable": false,
    "nbgrader": {
     "cell_type": "markdown",
     "checksum": "18f82578a750cfff09e62f1eff503291",
     "grade": false,
     "grade_id": "cell-3d1b4111d0bf4ec8",
     "locked": true,
     "points": 4,
     "schema_version": 3,
     "solution": false,
     "task": true
    }
   },
   "source": [
    "State the formulae for an arithmetic and geometric sum \n",
    "and verify them numerically for an example of your choice\n",
    "    \n"
   ]
  },
  {
   "cell_type": "code",
   "execution_count": null,
   "id": "edf2163d-dbe1-41fa-a32c-744602230ff8",
   "metadata": {
    "deletable": false,
    "nbgrader": {
     "cell_type": "code",
     "checksum": "3cb3bb3958424285f8c543ac521437e1",
     "grade": false,
     "grade_id": "cell-468e539869538257",
     "locked": false,
     "schema_version": 3,
     "solution": true,
     "task": false
    }
   },
   "outputs": [],
   "source": [
    "# YOUR CODE HERE\n",
    "raise NotImplementedError()"
   ]
  },
  {
   "cell_type": "code",
   "execution_count": 6,
   "id": "d154e55c-c2e3-41e2-91a1-9a4ecd3ff083",
   "metadata": {
    "deletable": false,
    "nbgrader": {
     "cell_type": "code",
     "checksum": "60f6ff96328090a901ad83edbabea36d",
     "grade": false,
     "grade_id": "cell-cca51607cc33f195",
     "locked": false,
     "schema_version": 3,
     "solution": true,
     "task": false
    }
   },
   "outputs": [],
   "source": [
    "# contains code \n",
    "def squares(n):\n",
    "    \"\"\"Compute the squares of numbers from 1 to n, such \n",
    "    that the ith element of the returned list equals i^2.\"\"\"\n",
    "    print(n)\n",
    "    if n < 1:\n",
    "        raise ValueError(\"n must be greater than or equal to 1\")\n",
    "    print([i ** 2 for i in range(1, n + 1)])\n",
    "    return [i ** 2 for i in range(1, n + 1)]\n",
    "    # YOUR CODE HERE\n",
    "    \n",
    "    # raise NotImplementedError()\n",
    "    "
   ]
  },
  {
   "cell_type": "code",
   "execution_count": null,
   "id": "c1b93e6c-f52e-403a-a025-5eb86757a6be",
   "metadata": {
    "deletable": false,
    "editable": false,
    "nbgrader": {
     "cell_type": "code",
     "checksum": "7a129256a4db4ccee0b779cbbc6b9ba7",
     "grade": true,
     "grade_id": "correct_squares",
     "locked": true,
     "points": 1,
     "schema_version": 3,
     "solution": false,
     "task": false
    }
   },
   "outputs": [],
   "source": [
    "\"\"\"Check that squares returns the correct output for several inputs\"\"\"\n",
    "assert squares(1) == [1]\n",
    "assert squares(2) == [1, 4]"
   ]
  }
 ],
 "metadata": {
  "kernelspec": {
   "display_name": "Python 3 (ipykernel)",
   "language": "python",
   "name": "python3"
  },
  "language_info": {
   "codemirror_mode": {
    "name": "ipython",
    "version": 3
   },
   "file_extension": ".py",
   "mimetype": "text/x-python",
   "name": "python",
   "nbconvert_exporter": "python",
   "pygments_lexer": "ipython3",
   "version": "3.13.1"
  }
 },
 "nbformat": 4,
 "nbformat_minor": 5
}
