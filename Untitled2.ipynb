{
 "cells": [
  {
   "cell_type": "code",
   "execution_count": 6,
   "id": "b523cd62-8bf3-4301-8ae3-8684cddf8a23",
   "metadata": {},
   "outputs": [
    {
     "name": "stdout",
     "output_type": "stream",
     "text": [
      "hi\n"
     ]
    }
   ],
   "source": [
    "print(\"hi\")"
   ]
  },
  {
   "cell_type": "code",
   "execution_count": 1,
   "id": "03ae5c42-70e5-4f3b-bbde-6cb964bd8a52",
   "metadata": {},
   "outputs": [],
   "source": [
    "import time"
   ]
  },
  {
   "cell_type": "code",
   "execution_count": null,
   "id": "d9d7e268-ffed-4da1-8fb8-b417809bcc72",
   "metadata": {},
   "outputs": [],
   "source": [
    "print(\"dasdf\")\n",
    "# CPU-intensive calculation\n",
    "def heavy_computation():\n",
    "    result = 0\n",
    "    for i in range(10000000):\n",
    "        result += i ** 2\n",
    "        for j in range(100):\n",
    "            result += j ** 2\n",
    "    return result\n",
    "\n",
    "start = time.time()\n",
    "result = heavy_computation()\n",
    "end = time.time()\n",
    "print(f\"Computation took {end - start:.2f} seconds\")"
   ]
  }
 ],
 "metadata": {
  "kernelspec": {
   "display_name": "Python 3 (ipykernel)",
   "language": "python",
   "name": "python3"
  },
  "language_info": {
   "codemirror_mode": {
    "name": "ipython",
    "version": 3
   },
   "file_extension": ".py",
   "mimetype": "text/x-python",
   "name": "python",
   "nbconvert_exporter": "python",
   "pygments_lexer": "ipython3",
   "version": "3.13.1"
  }
 },
 "nbformat": 4,
 "nbformat_minor": 5
}
