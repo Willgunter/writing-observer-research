{
 "cells": [
  {
   "cell_type": "code",
   "execution_count": 4,
   "id": "06ee6155-27f4-4f1a-b9d8-0dd8df8eaaf9",
   "metadata": {},
   "outputs": [],
   "source": [
    "import time"
   ]
  },
  {
   "cell_type": "code",
   "execution_count": 3,
   "id": "ea66359d-a963-44d2-b57a-4f8076272df1",
   "metadata": {},
   "outputs": [
    {
     "name": "stdout",
     "output_type": "stream",
     "text": [
      "hi\n"
     ]
    }
   ],
   "source": [
    "print(\"hi\")"
   ]
  },
  {
   "cell_type": "code",
   "execution_count": null,
   "id": "6e55a48e-4562-482c-9697-0b45d4c60177",
   "metadata": {},
   "outputs": [],
   "source": [
    "print(\"dasdf\")\n",
    "# CPU-intensive calculation\n",
    "def heavy_computation():\n",
    "    result = 0\n",
    "    for i in range(100000):\n",
    "        result += i ** 2\n",
    "        for j in range(25):\n",
    "            result += j ** 2\n",
    "    return result\n",
    "\n",
    "start = time.time()\n",
    "result = heavy_computation()\n",
    "end = time.time()\n",
    "print(f\"Computation took {end - start:.2f} seconds\")"
   ]
  },
  {
   "cell_type": "code",
   "execution_count": null,
   "id": "3f20f60d-e261-4545-851f-9e5a8231eec2",
   "metadata": {},
   "outputs": [],
   "source": []
  }
 ],
 "metadata": {
  "kernelspec": {
   "display_name": "Python 3 (ipykernel)",
   "language": "python",
   "name": "python3"
  },
  "language_info": {
   "codemirror_mode": {
    "name": "ipython",
    "version": 3
   },
   "file_extension": ".py",
   "mimetype": "text/x-python",
   "name": "python",
   "nbconvert_exporter": "python",
   "pygments_lexer": "ipython3",
   "version": "3.13.1"
  }
 },
 "nbformat": 4,
 "nbformat_minor": 5
}
